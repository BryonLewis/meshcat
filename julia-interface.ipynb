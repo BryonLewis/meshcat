{
 "cells": [
  {
   "cell_type": "code",
   "execution_count": 1,
   "metadata": {},
   "outputs": [],
   "source": [
    "using Revise"
   ]
  },
  {
   "cell_type": "code",
   "execution_count": 2,
   "metadata": {},
   "outputs": [
    {
     "data": {
      "text/plain": [
       "3-element Array{Any,1}:\n",
       " \"/home/rdeits/apps/julia-0.6.2/local/share/julia/site/v0.6\"\n",
       " \"/home/rdeits/apps/julia-0.6.2/share/julia/site/v0.6\"      \n",
       " \"/home/rdeits/locomotion/explorations/threejs-viewer\"      "
      ]
     },
     "execution_count": 2,
     "metadata": {},
     "output_type": "execute_result"
    }
   ],
   "source": [
    "push!(LOAD_PATH, pwd())"
   ]
  },
  {
   "cell_type": "code",
   "execution_count": 3,
   "metadata": {},
   "outputs": [
    {
     "name": "stderr",
     "output_type": "stream",
     "text": [
      "WARNING: replacing module MeshTV\n"
     ]
    }
   ],
   "source": [
    "import MeshTV\n",
    "reload(\"MeshTV\")"
   ]
  },
  {
   "cell_type": "code",
   "execution_count": 4,
   "metadata": {},
   "outputs": [
    {
     "name": "stdout",
     "output_type": "stream",
     "text": [
      "Listening on 0.0.0.0:8852...\n"
     ]
    },
    {
     "data": {
      "text/plain": [
       "MeshTV.ViewerWindow(\"127.0.0.1\", 8852, MeshTV.WebSocketPool(Set{WebSockets.WebSocket}(), Channel{WebSockets.WebSocket}(sz_max:32,sz_curr:0)), HttpServer.Server(HttpServer.HttpHandler(HttpServer.#5, Base.TCPServer(RawFD(58) active), Dict{String,Function}(Pair{String,Function}(\"error\", HttpServer.#1),Pair{String,Function}(\"listen\", HttpServer.#3))), WebSockets.WebSocketHandler(MeshTV.#3)))"
      ]
     },
     "execution_count": 4,
     "metadata": {},
     "output_type": "execute_result"
    },
    {
     "name": "stderr",
     "output_type": "stream",
     "text": [
      "[18134:18171:0214/133836.152245:ERROR:browser_gpu_channel_host_factory.cc(121)] Failed to launch GPU process.\n"
     ]
    }
   ],
   "source": [
    "window = MeshTV.ViewerWindow(port=8764 + rand(1:100))"
   ]
  },
  {
   "cell_type": "code",
   "execution_count": 5,
   "metadata": {},
   "outputs": [],
   "source": [
    "using GeometryTypes\n",
    "using MsgPack\n",
    "using MeshIO, FileIO"
   ]
  },
  {
   "cell_type": "code",
   "execution_count": 6,
   "metadata": {},
   "outputs": [
    {
     "data": {
      "text/plain": [
       "GeometryTypes.HyperRectangle{3,Float64}([0.0, 0.0, 0.0], [0.1, 0.2, 0.3])"
      ]
     },
     "execution_count": 6,
     "metadata": {},
     "output_type": "execute_result"
    }
   ],
   "source": [
    "box = HyperRectangle(Vec(0., 0, 0), Vec(0.1, 0.2, 0.3))"
   ]
  },
  {
   "cell_type": "code",
   "execution_count": 7,
   "metadata": {},
   "outputs": [
    {
     "name": "stdout",
     "output_type": "stream",
     "text": [
      "replacing field: geometry\n",
      "replacing field: material\n",
      "Waiting for a websocket connection...\n",
      "...client connected!\n"
     ]
    }
   ],
   "source": [
    "msg = Dict(\n",
    "    \"commands\" => [\n",
    "        MeshTV.SetObject(\n",
    "            MeshTV.Mesh(box),\n",
    "            [:foo, :bar]\n",
    "        )\n",
    "    ]\n",
    ")\n",
    "\n",
    "send(window, MsgPack.pack(msg))"
   ]
  },
  {
   "cell_type": "code",
   "execution_count": 8,
   "metadata": {},
   "outputs": [
    {
     "name": "stdout",
     "output_type": "stream",
     "text": [
      "replacing field: geometry\n",
      "replacing field: material\n"
     ]
    }
   ],
   "source": [
    "mesh = load(joinpath(Pkg.dir(\"GeometryTypes\"), \"test\", \"data\", \"cat.obj\"))\n",
    "\n",
    "msg = Dict(\n",
    "    \"commands\" => [\n",
    "        MeshTV.SetObject(\n",
    "            MeshTV.Mesh(mesh),\n",
    "            [:meshes, :cat]\n",
    "        )\n",
    "    ]\n",
    ")\n",
    "send(window, MsgPack.pack(msg))"
   ]
  },
  {
   "cell_type": "code",
   "execution_count": 10,
   "metadata": {},
   "outputs": [
    {
     "name": "stdout",
     "output_type": "stream",
     "text": [
      "replacing field: geometry\n",
      "replacing field: material\n",
      "replacing field: map\n",
      "replacing field: image\n"
     ]
    },
    {
     "name": "stderr",
     "output_type": "stream",
     "text": [
      "WARNING: Method definition flatten!(Base.Dict{K, V} where V where K) in module Geometry at /home/rdeits/locomotion/explorations/threejs-viewer/MeshTV.jl/src/geometry.jl:131 overwritten at /home/rdeits/locomotion/explorations/threejs-viewer/MeshTV.jl/src/geometry.jl:131.\n"
     ]
    }
   ],
   "source": [
    "msg = Dict(\n",
    "    \"commands\" => [\n",
    "        MeshTV.SetObject(\n",
    "            MeshTV.Mesh(\n",
    "                load(\"head_multisense.obj\", GLUVMesh),\n",
    "                MeshTV.MeshLambertMaterial(\n",
    "                    map=MeshTV.Texture(\n",
    "                        image=MeshTV.PngImage(\"HeadTextureMultisense.png\")\n",
    "                    )\n",
    "                ),\n",
    "            ),\n",
    "            [:meshes, :val]\n",
    "        )\n",
    "    ]\n",
    ")\n",
    "send(window, MsgPack.pack(msg))"
   ]
  },
  {
   "cell_type": "code",
   "execution_count": null,
   "metadata": {},
   "outputs": [],
   "source": []
  }
 ],
 "metadata": {
  "kernelspec": {
   "display_name": "Julia 0.6.2",
   "language": "julia",
   "name": "julia-0.6"
  },
  "language_info": {
   "file_extension": ".jl",
   "mimetype": "application/julia",
   "name": "julia",
   "version": "0.6.2"
  }
 },
 "nbformat": 4,
 "nbformat_minor": 2
}
