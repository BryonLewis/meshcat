{
 "cells": [
  {
   "cell_type": "code",
   "execution_count": 1,
   "metadata": {},
   "outputs": [],
   "source": [
    "using Revise"
   ]
  },
  {
   "cell_type": "code",
   "execution_count": 2,
   "metadata": {},
   "outputs": [
    {
     "data": {
      "text/plain": [
       "3-element Array{Any,1}:\n",
       " \"/home/rdeits/apps/julia-d386e40c17/local/share/julia/site/v0.6\"            \n",
       " \"/home/rdeits/apps/julia-d386e40c17/share/julia/site/v0.6\"                  \n",
       " \"/home/rdeits/Dropbox/Backups/DRC004/locomotion/explorations/threejs-viewer\""
      ]
     },
     "execution_count": 2,
     "metadata": {},
     "output_type": "execute_result"
    }
   ],
   "source": [
    "push!(LOAD_PATH, pwd())"
   ]
  },
  {
   "cell_type": "code",
   "execution_count": 78,
   "metadata": {},
   "outputs": [
    {
     "name": "stderr",
     "output_type": "stream",
     "text": [
      "WARNING: replacing module MeshTV\n"
     ]
    }
   ],
   "source": [
    "import MeshTV\n",
    "reload(\"MeshTV\")"
   ]
  },
  {
   "cell_type": "code",
   "execution_count": 79,
   "metadata": {},
   "outputs": [
    {
     "name": "stdout",
     "output_type": "stream",
     "text": [
      "Listening on 0.0.0.0:8832...\n"
     ]
    },
    {
     "data": {
      "text/plain": [
       "MeshTV.ViewerWindow(\"127.0.0.1\", 8832, MeshTV.WebSocketPool(Set{WebSockets.WebSocket}(), Channel{WebSockets.WebSocket}(sz_max:32,sz_curr:0)), HttpServer.Server(HttpServer.HttpHandler(HttpServer.#5, Base.TCPServer(RawFD(47) active), Dict{String,Function}(Pair{String,Function}(\"error\", HttpServer.#1),Pair{String,Function}(\"listen\", HttpServer.#3))), WebSockets.WebSocketHandler(MeshTV.#3)))"
      ]
     },
     "execution_count": 79,
     "metadata": {},
     "output_type": "execute_result"
    }
   ],
   "source": [
    "window = MeshTV.ViewerWindow(port=8764 + rand(1:100))"
   ]
  },
  {
   "cell_type": "code",
   "execution_count": 80,
   "metadata": {},
   "outputs": [],
   "source": [
    "using GeometryTypes\n",
    "using MsgPack"
   ]
  },
  {
   "cell_type": "code",
   "execution_count": 81,
   "metadata": {},
   "outputs": [
    {
     "data": {
      "text/plain": [
       "GeometryTypes.HyperRectangle{3,Float64}([0.0, 0.0, 0.0], [0.1, 0.2, 0.3])"
      ]
     },
     "execution_count": 81,
     "metadata": {},
     "output_type": "execute_result"
    }
   ],
   "source": [
    "box = HyperRectangle(Vec(0., 0, 0), Vec(0.1, 0.2, 0.3))"
   ]
  },
  {
   "cell_type": "code",
   "execution_count": 82,
   "metadata": {},
   "outputs": [
    {
     "data": {
      "text/plain": [
       "Dict{String,Array{MeshTV.Geometry.SetObject{MeshTV.Geometry.Mesh{GeometryTypes.HyperRectangle{3,Float64},MeshTV.Geometry.MeshMaterial}},1}} with 1 entry:\n",
       "  \"commands\" => MeshTV.Geometry.SetObject{MeshTV.Geometry.Mesh{GeometryTypes.Hy…"
      ]
     },
     "execution_count": 82,
     "metadata": {},
     "output_type": "execute_result"
    }
   ],
   "source": [
    "msg = Dict(\n",
    "    \"commands\" => [\n",
    "        MeshTV.SetObject(\n",
    "            MeshTV.Mesh(box),\n",
    "            [:foo, :bar]\n",
    "        )\n",
    "    ]\n",
    ")"
   ]
  },
  {
   "cell_type": "code",
   "execution_count": 83,
   "metadata": {},
   "outputs": [
    {
     "data": {
      "text/plain": [
       "Dict{Any,Any} with 5 entries:\n",
       "  \"material\" => \"cd8d68ae-1142-11e8-287f-c580e1fe6e67\"\n",
       "  \"uuid\"     => \"cd89c460-1142-11e8-333e-ff113ad516e8\"\n",
       "  \"geometry\" => \"cd8d6818-1142-11e8-2a55-8733acee9cb4\"\n",
       "  \"matrix\"   => Any[1.0, 0.0, 0.0, 0.0, 0.0, 1.0, 0.0, 0.0, 0.0, 0.0, 1.0, 0.0,…\n",
       "  \"type\"     => \"Mesh\""
      ]
     },
     "execution_count": 83,
     "metadata": {},
     "output_type": "execute_result"
    }
   ],
   "source": [
    "MsgPack.unpack(MsgPack.pack(msg))[\"commands\"][1][\"object\"][\"object\"]"
   ]
  },
  {
   "cell_type": "code",
   "execution_count": 68,
   "metadata": {},
   "outputs": [
    {
     "data": {
      "text/plain": [
       "CoordinateTransformations.Transformation"
      ]
     },
     "execution_count": 68,
     "metadata": {},
     "output_type": "execute_result"
    }
   ],
   "source": [
    "supertype(supertype(Translation))"
   ]
  },
  {
   "cell_type": "code",
   "execution_count": 58,
   "metadata": {},
   "outputs": [
    {
     "name": "stdout",
     "output_type": "stream",
     "text": [
      "Waiting for a websocket connection...\n",
      "...client connected!\n"
     ]
    }
   ],
   "source": [
    "send(window, MsgPack.pack(msg))"
   ]
  },
  {
   "cell_type": "code",
   "execution_count": null,
   "metadata": {},
   "outputs": [],
   "source": []
  }
 ],
 "metadata": {
  "kernelspec": {
   "display_name": "Julia 0.6.2",
   "language": "julia",
   "name": "julia-0.6"
  },
  "language_info": {
   "file_extension": ".jl",
   "mimetype": "application/julia",
   "name": "julia",
   "version": "0.6.2"
  }
 },
 "nbformat": 4,
 "nbformat_minor": 2
}
