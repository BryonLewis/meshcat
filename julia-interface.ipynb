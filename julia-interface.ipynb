{
 "cells": [
  {
   "cell_type": "code",
   "execution_count": 1,
   "metadata": {},
   "outputs": [],
   "source": [
    "using Revise"
   ]
  },
  {
   "cell_type": "code",
   "execution_count": 2,
   "metadata": {},
   "outputs": [
    {
     "data": {
      "text/plain": [
       "3-element Array{Any,1}:\n",
       " \"/home/rdeits/apps/julia-d386e40c17/local/share/julia/site/v0.6\"            \n",
       " \"/home/rdeits/apps/julia-d386e40c17/share/julia/site/v0.6\"                  \n",
       " \"/home/rdeits/Dropbox/Backups/DRC004/locomotion/explorations/threejs-viewer\""
      ]
     },
     "execution_count": 2,
     "metadata": {},
     "output_type": "execute_result"
    }
   ],
   "source": [
    "push!(LOAD_PATH, pwd())"
   ]
  },
  {
   "cell_type": "code",
   "execution_count": 46,
   "metadata": {},
   "outputs": [
    {
     "name": "stderr",
     "output_type": "stream",
     "text": [
      "WARNING: replacing module MeshTV\n"
     ]
    }
   ],
   "source": [
    "import MeshTV\n",
    "reload(\"MeshTV\")"
   ]
  },
  {
   "cell_type": "code",
   "execution_count": 47,
   "metadata": {},
   "outputs": [
    {
     "name": "stdout",
     "output_type": "stream",
     "text": [
      "Listening on 0.0.0.0:8792...\n"
     ]
    },
    {
     "data": {
      "text/plain": [
       "MeshTV.ViewerWindow(\"127.0.0.1\", 8792, MeshTV.WebSocketPool(Set{WebSockets.WebSocket}(), Channel{WebSockets.WebSocket}(sz_max:32,sz_curr:0)), HttpServer.Server(HttpServer.HttpHandler(HttpServer.#5, Base.TCPServer(RawFD(43) active), Dict{String,Function}(Pair{String,Function}(\"error\", HttpServer.#1),Pair{String,Function}(\"listen\", HttpServer.#3))), WebSockets.WebSocketHandler(MeshTV.#3)))"
      ]
     },
     "execution_count": 47,
     "metadata": {},
     "output_type": "execute_result"
    }
   ],
   "source": [
    "window = MeshTV.ViewerWindow(port=8764 + rand(1:100))"
   ]
  },
  {
   "cell_type": "code",
   "execution_count": 42,
   "metadata": {},
   "outputs": [],
   "source": [
    "using GeometryTypes\n",
    "using MsgPack"
   ]
  },
  {
   "cell_type": "code",
   "execution_count": 43,
   "metadata": {},
   "outputs": [
    {
     "data": {
      "text/plain": [
       "GeometryTypes.HyperRectangle{3,Float64}([0.0, 0.0, 0.0], [0.1, 0.2, 0.3])"
      ]
     },
     "execution_count": 43,
     "metadata": {},
     "output_type": "execute_result"
    }
   ],
   "source": [
    "box = HyperRectangle(Vec(0., 0, 0), Vec(0.1, 0.2, 0.3))"
   ]
  },
  {
   "cell_type": "code",
   "execution_count": 44,
   "metadata": {},
   "outputs": [
    {
     "ename": "LoadError",
     "evalue": "\u001b[91mUndefVarError: Object not defined\u001b[39m",
     "output_type": "error",
     "traceback": [
      "\u001b[91mUndefVarError: Object not defined\u001b[39m",
      "",
      "Stacktrace:",
      " [1] \u001b[1mMeshTV.Geometry.Mesh\u001b[22m\u001b[22m\u001b[1m(\u001b[22m\u001b[22m::GeometryTypes.HyperRectangle{3,Float64}\u001b[1m)\u001b[22m\u001b[22m at \u001b[1m./sysimg.jl:77\u001b[22m\u001b[22m",
      " [2] \u001b[1minclude_string\u001b[22m\u001b[22m\u001b[1m(\u001b[22m\u001b[22m::String, ::String\u001b[1m)\u001b[22m\u001b[22m at \u001b[1m./loading.jl:522\u001b[22m\u001b[22m"
     ]
    }
   ],
   "source": [
    "msg = Dict(\n",
    "    \"commands\" => [\n",
    "        MeshTV.SetObject(\n",
    "            MeshTV.Mesh(box),\n",
    "            [:foo, :bar]\n",
    "        )\n",
    "    ]\n",
    ")"
   ]
  },
  {
   "cell_type": "code",
   "execution_count": 33,
   "metadata": {},
   "outputs": [
    {
     "data": {
      "text/plain": [
       "Dict{Any,Any} with 4 entries:\n",
       "  \"material\" => \"adbbfe16-113d-11e8-264a-2db483617416\"\n",
       "  \"uuid\"     => \"adbbfd12-113d-11e8-0db2-35a9e7a9826d\"\n",
       "  \"geometry\" => \"adbbfd9c-113d-11e8-1e1b-fbb05ed3c078\"\n",
       "  \"type\"     => \"Object\""
      ]
     },
     "execution_count": 33,
     "metadata": {},
     "output_type": "execute_result"
    }
   ],
   "source": [
    "MsgPack.unpack(MsgPack.pack(msg))[\"commands\"][1][\"object\"][\"object\"]"
   ]
  },
  {
   "cell_type": "code",
   "execution_count": 34,
   "metadata": {},
   "outputs": [
    {
     "name": "stdout",
     "output_type": "stream",
     "text": [
      "Waiting for a websocket connection...\n",
      "...client connected!\n"
     ]
    }
   ],
   "source": [
    "send(window, MsgPack.pack(msg))"
   ]
  },
  {
   "cell_type": "code",
   "execution_count": null,
   "metadata": {},
   "outputs": [],
   "source": []
  }
 ],
 "metadata": {
  "kernelspec": {
   "display_name": "Julia 0.6.2",
   "language": "julia",
   "name": "julia-0.6"
  },
  "language_info": {
   "file_extension": ".jl",
   "mimetype": "application/julia",
   "name": "julia",
   "version": "0.6.2"
  }
 },
 "nbformat": 4,
 "nbformat_minor": 2
}
