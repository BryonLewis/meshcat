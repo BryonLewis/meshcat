{
 "cells": [
  {
   "cell_type": "code",
   "execution_count": null,
   "metadata": {},
   "outputs": [],
   "source": [
    "using Revise"
   ]
  },
  {
   "cell_type": "code",
   "execution_count": null,
   "metadata": {},
   "outputs": [],
   "source": [
    "push!(LOAD_PATH, pwd())"
   ]
  },
  {
   "cell_type": "code",
   "execution_count": null,
   "metadata": {},
   "outputs": [],
   "source": [
    "import MeshTV\n",
    "reload(\"MeshTV\")"
   ]
  },
  {
   "cell_type": "code",
   "execution_count": null,
   "metadata": {},
   "outputs": [],
   "source": [
    "window = MeshTV.ViewerWindow(open=false)"
   ]
  },
  {
   "cell_type": "code",
   "execution_count": null,
   "metadata": {},
   "outputs": [],
   "source": [
    "MeshTV.IJuliaCell(window, false)"
   ]
  },
  {
   "cell_type": "code",
   "execution_count": null,
   "metadata": {},
   "outputs": [],
   "source": [
    "MeshTV.IJuliaCell(window, true)"
   ]
  },
  {
   "cell_type": "code",
   "execution_count": null,
   "metadata": {},
   "outputs": [],
   "source": [
    "using GeometryTypes\n",
    "using MsgPack\n",
    "using MeshIO, FileIO"
   ]
  },
  {
   "cell_type": "code",
   "execution_count": null,
   "metadata": {},
   "outputs": [],
   "source": [
    "box = HyperRectangle(Vec(0., 0, 0), Vec(0.1, 0.2, 0.3))"
   ]
  },
  {
   "cell_type": "code",
   "execution_count": null,
   "metadata": {},
   "outputs": [],
   "source": [
    "msg = Dict(\n",
    "    \"commands\" => [\n",
    "        MeshTV.SetObject(\n",
    "            MeshTV.Mesh(box),\n",
    "            [:foo, :bar]\n",
    "        )\n",
    "    ]\n",
    ")\n",
    "\n",
    "send(window, MsgPack.pack(msg))"
   ]
  },
  {
   "cell_type": "code",
   "execution_count": null,
   "metadata": {},
   "outputs": [],
   "source": [
    "mesh = load(joinpath(Pkg.dir(\"GeometryTypes\"), \"test\", \"data\", \"cat.obj\"))\n",
    "\n",
    "msg = Dict(\n",
    "    \"commands\" => [\n",
    "        MeshTV.SetObject(\n",
    "            MeshTV.Mesh(mesh),\n",
    "            [:meshes, :cat]\n",
    "        )\n",
    "    ]\n",
    ")\n",
    "send(window, MsgPack.pack(msg))"
   ]
  },
  {
   "cell_type": "code",
   "execution_count": null,
   "metadata": {},
   "outputs": [],
   "source": [
    "msg = Dict(\n",
    "    \"commands\" => [\n",
    "        MeshTV.SetObject(\n",
    "            MeshTV.Mesh(\n",
    "                load(\"head_multisense.obj\", GLUVMesh),\n",
    "                MeshTV.MeshLambertMaterial(\n",
    "                    map=MeshTV.Texture(\n",
    "                        image=MeshTV.PngImage(\"HeadTextureMultisense.png\")\n",
    "                    )\n",
    "                ),\n",
    "            ),\n",
    "            [:meshes, :val]\n",
    "        )\n",
    "    ]\n",
    ")\n",
    "send(window, MsgPack.pack(msg))"
   ]
  },
  {
   "cell_type": "code",
   "execution_count": null,
   "metadata": {},
   "outputs": [],
   "source": [
    "open(window)"
   ]
  },
  {
   "cell_type": "code",
   "execution_count": null,
   "metadata": {},
   "outputs": [],
   "source": []
  }
 ],
 "metadata": {
  "kernelspec": {
   "display_name": "Julia 0.6.2",
   "language": "julia",
   "name": "julia-0.6"
  },
  "language_info": {
   "file_extension": ".jl",
   "mimetype": "application/julia",
   "name": "julia",
   "version": "0.6.2"
  }
 },
 "nbformat": 4,
 "nbformat_minor": 2
}
