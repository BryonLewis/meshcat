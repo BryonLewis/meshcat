{
 "cells": [
  {
   "cell_type": "code",
   "execution_count": null,
   "metadata": {},
   "outputs": [],
   "source": [
    "%load_ext autoreload\n",
    "%autoreload 2"
   ]
  },
  {
   "cell_type": "code",
   "execution_count": null,
   "metadata": {},
   "outputs": [],
   "source": [
    "import sys\n",
    "sys.path.append(\"./python\")"
   ]
  },
  {
   "cell_type": "code",
   "execution_count": null,
   "metadata": {},
   "outputs": [],
   "source": [
    "import numpy as np\n",
    "import time"
   ]
  },
  {
   "cell_type": "code",
   "execution_count": null,
   "metadata": {},
   "outputs": [],
   "source": [
    "import meshtv.visualizer as v\n",
    "import meshtv.geometry as g\n",
    "from meshtv.commands import SetObject, SetTransform"
   ]
  },
  {
   "cell_type": "code",
   "execution_count": null,
   "metadata": {},
   "outputs": [],
   "source": [
    "vis = v.Visualizer()"
   ]
  },
  {
   "cell_type": "code",
   "execution_count": null,
   "metadata": {},
   "outputs": [],
   "source": [
    "vis.jupyter_cell()"
   ]
  },
  {
   "cell_type": "code",
   "execution_count": null,
   "metadata": {},
   "outputs": [],
   "source": [
    "with open(\"head_multisense.obj\", \"r\") as f:\n",
    "        mesh_data = f.read()\n",
    "\n",
    "while True:\n",
    "    verts = np.random.random((3, 100000)).astype(np.float32)\n",
    "    vis.send([\n",
    "        SetObject(\n",
    "            g.Mesh(\n",
    "                g.Box([0.2, 0.1, 0.2]),\n",
    "                g.MeshLambertMaterial(0xffffff)\n",
    "            ),\n",
    "            [\"primitives\", \"box\"]\n",
    "        ),\n",
    "        SetObject(\n",
    "            g.Mesh(\n",
    "                g.Box([0.2, 0.1, 0.2]),\n",
    "                g.MeshLambertMaterial(color=0xffffff)\n",
    "            ),\n",
    "            []\n",
    "        ),\n",
    "        SetObject(\n",
    "            g.Points(\n",
    "                g.PointsGeometry(verts, color=verts),\n",
    "                g.PointsMaterial()\n",
    "            ),\n",
    "            [\"primitives\", \"points\"]\n",
    "        ),\n",
    "        SetTransform(\n",
    "            list(np.random.random(3)),\n",
    "            [0, 0, 0, 1],\n",
    "            [\"primitives\"]\n",
    "        ),\n",
    "        SetObject(\n",
    "            g.Mesh(\n",
    "                g.ObjMeshGeometry.from_file(\"head_multisense.obj\"),\n",
    "                g.MeshLambertMaterial(\n",
    "                    map=g.ImageTexture(\n",
    "                        image=g.PngImage.from_file(\"HeadTextureMultisense.png\")\n",
    "                    )\n",
    "                )\n",
    "            ),\n",
    "            [\"robots\", \"valkryie\", \"head\"]\n",
    "        ),\n",
    "        SetTransform(\n",
    "            [0, 0, 1],\n",
    "            [0, 0, 0, 1],\n",
    "            [\"robots\", \"valkryie\", \"head\"]\n",
    "        )\n",
    "\n",
    "    ])\n",
    "    time.sleep(1)\n",
    "\n",
    "\n",
    "\n"
   ]
  },
  {
   "cell_type": "code",
   "execution_count": null,
   "metadata": {},
   "outputs": [],
   "source": []
  }
 ],
 "metadata": {
  "kernelspec": {
   "display_name": "Python 3",
   "language": "python",
   "name": "python3"
  },
  "language_info": {
   "codemirror_mode": {
    "name": "ipython",
    "version": 3
   },
   "file_extension": ".py",
   "mimetype": "text/x-python",
   "name": "python",
   "nbconvert_exporter": "python",
   "pygments_lexer": "ipython3",
   "version": "3.5.2"
  }
 },
 "nbformat": 4,
 "nbformat_minor": 2
}
